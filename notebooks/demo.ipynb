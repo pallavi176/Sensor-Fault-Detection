{
 "cells": [
  {
   "cell_type": "code",
   "execution_count": 1,
   "metadata": {},
   "outputs": [],
   "source": [
    "from scipy.stats import ks_2samp"
   ]
  },
  {
   "cell_type": "code",
   "execution_count": 2,
   "metadata": {},
   "outputs": [],
   "source": [
    "import numpy as np"
   ]
  },
  {
   "cell_type": "code",
   "execution_count": 3,
   "metadata": {},
   "outputs": [],
   "source": [
    "d1 = np.arange(10)\n",
    "d2 = np.arange(10)"
   ]
  },
  {
   "cell_type": "code",
   "execution_count": 4,
   "metadata": {},
   "outputs": [
    {
     "data": {
      "text/plain": [
       "array([0, 1, 2, 3, 4, 5, 6, 7, 8, 9])"
      ]
     },
     "execution_count": 4,
     "metadata": {},
     "output_type": "execute_result"
    }
   ],
   "source": [
    "d1"
   ]
  },
  {
   "cell_type": "code",
   "execution_count": 5,
   "metadata": {},
   "outputs": [
    {
     "data": {
      "text/plain": [
       "array([0, 1, 2, 3, 4, 5, 6, 7, 8, 9])"
      ]
     },
     "execution_count": 5,
     "metadata": {},
     "output_type": "execute_result"
    }
   ],
   "source": [
    "d2"
   ]
  },
  {
   "cell_type": "code",
   "execution_count": 6,
   "metadata": {},
   "outputs": [
    {
     "data": {
      "text/plain": [
       "KstestResult(statistic=0.0, pvalue=1.0)"
      ]
     },
     "execution_count": 6,
     "metadata": {},
     "output_type": "execute_result"
    }
   ],
   "source": [
    "ks_2samp(d1, d2)"
   ]
  },
  {
   "cell_type": "code",
   "execution_count": 17,
   "metadata": {},
   "outputs": [],
   "source": [
    "d3 = np.arange(11)\n",
    "d4 = np.arange(10)"
   ]
  },
  {
   "cell_type": "code",
   "execution_count": 18,
   "metadata": {},
   "outputs": [
    {
     "data": {
      "text/plain": [
       "KstestResult(statistic=0.09090909090909091, pvalue=1.0)"
      ]
     },
     "execution_count": 18,
     "metadata": {},
     "output_type": "execute_result"
    }
   ],
   "source": [
    "ks_2samp(d3, d4)"
   ]
  },
  {
   "cell_type": "code",
   "execution_count": 19,
   "metadata": {},
   "outputs": [],
   "source": [
    "d5 = np.arange(100,200)\n",
    "d6 = np.arange(10)"
   ]
  },
  {
   "cell_type": "code",
   "execution_count": 20,
   "metadata": {},
   "outputs": [],
   "source": [
    "test = ks_2samp(d5, d6)"
   ]
  },
  {
   "cell_type": "code",
   "execution_count": 21,
   "metadata": {},
   "outputs": [
    {
     "data": {
      "text/plain": [
       "4.2646072253826637e-14"
      ]
     },
     "execution_count": 21,
     "metadata": {},
     "output_type": "execute_result"
    }
   ],
   "source": [
    "test.pvalue"
   ]
  },
  {
   "cell_type": "code",
   "execution_count": 22,
   "metadata": {},
   "outputs": [
    {
     "data": {
      "text/plain": [
       "1.0"
      ]
     },
     "execution_count": 22,
     "metadata": {},
     "output_type": "execute_result"
    }
   ],
   "source": [
    "ks_2samp(d1, d2).pvalue"
   ]
  },
  {
   "cell_type": "code",
   "execution_count": 23,
   "metadata": {},
   "outputs": [
    {
     "data": {
      "text/plain": [
       "1.0"
      ]
     },
     "execution_count": 23,
     "metadata": {},
     "output_type": "execute_result"
    }
   ],
   "source": [
    "ks_2samp(d3, d4).pvalue"
   ]
  },
  {
   "cell_type": "code",
   "execution_count": 24,
   "metadata": {},
   "outputs": [],
   "source": [
    "import os\n",
    "os.chdir(\"../\")"
   ]
  },
  {
   "cell_type": "code",
   "execution_count": 28,
   "metadata": {},
   "outputs": [],
   "source": [
    "train_path=\"artifact/11_27_2022_17_01_07/data_ingestion/ingested/train.csv\"\n",
    "test_path=\"artifact/11_27_2022_17_01_07/data_ingestion/ingested/test.csv\""
   ]
  },
  {
   "cell_type": "code",
   "execution_count": 29,
   "metadata": {},
   "outputs": [],
   "source": [
    "import pandas as pd\n",
    "train_df = pd.read_csv(train_path)\n",
    "test_df = pd.read_csv(test_path)"
   ]
  },
  {
   "cell_type": "code",
   "execution_count": 30,
   "metadata": {},
   "outputs": [
    {
     "data": {
      "text/html": [
       "<div>\n",
       "<style scoped>\n",
       "    .dataframe tbody tr th:only-of-type {\n",
       "        vertical-align: middle;\n",
       "    }\n",
       "\n",
       "    .dataframe tbody tr th {\n",
       "        vertical-align: top;\n",
       "    }\n",
       "\n",
       "    .dataframe thead th {\n",
       "        text-align: right;\n",
       "    }\n",
       "</style>\n",
       "<table border=\"1\" class=\"dataframe\">\n",
       "  <thead>\n",
       "    <tr style=\"text-align: right;\">\n",
       "      <th></th>\n",
       "      <th>class</th>\n",
       "      <th>aa_000</th>\n",
       "      <th>ac_000</th>\n",
       "      <th>ad_000</th>\n",
       "      <th>ae_000</th>\n",
       "      <th>af_000</th>\n",
       "      <th>ag_000</th>\n",
       "      <th>ag_001</th>\n",
       "      <th>ag_002</th>\n",
       "      <th>ag_003</th>\n",
       "      <th>...</th>\n",
       "      <th>ee_002</th>\n",
       "      <th>ee_003</th>\n",
       "      <th>ee_004</th>\n",
       "      <th>ee_005</th>\n",
       "      <th>ee_006</th>\n",
       "      <th>ee_007</th>\n",
       "      <th>ee_008</th>\n",
       "      <th>ee_009</th>\n",
       "      <th>ef_000</th>\n",
       "      <th>eg_000</th>\n",
       "    </tr>\n",
       "  </thead>\n",
       "  <tbody>\n",
       "    <tr>\n",
       "      <th>0</th>\n",
       "      <td>neg</td>\n",
       "      <td>144982</td>\n",
       "      <td>NaN</td>\n",
       "      <td>NaN</td>\n",
       "      <td>NaN</td>\n",
       "      <td>NaN</td>\n",
       "      <td>0.0</td>\n",
       "      <td>0.0</td>\n",
       "      <td>0.0</td>\n",
       "      <td>22.0</td>\n",
       "      <td>...</td>\n",
       "      <td>417600.0</td>\n",
       "      <td>194106.0</td>\n",
       "      <td>390902.0</td>\n",
       "      <td>558246.0</td>\n",
       "      <td>682826.0</td>\n",
       "      <td>3779984.0</td>\n",
       "      <td>50966.0</td>\n",
       "      <td>0.0</td>\n",
       "      <td>NaN</td>\n",
       "      <td>NaN</td>\n",
       "    </tr>\n",
       "    <tr>\n",
       "      <th>1</th>\n",
       "      <td>neg</td>\n",
       "      <td>3876</td>\n",
       "      <td>2.000000e+01</td>\n",
       "      <td>NaN</td>\n",
       "      <td>0.0</td>\n",
       "      <td>0.0</td>\n",
       "      <td>NaN</td>\n",
       "      <td>NaN</td>\n",
       "      <td>NaN</td>\n",
       "      <td>NaN</td>\n",
       "      <td>...</td>\n",
       "      <td>NaN</td>\n",
       "      <td>NaN</td>\n",
       "      <td>NaN</td>\n",
       "      <td>NaN</td>\n",
       "      <td>NaN</td>\n",
       "      <td>NaN</td>\n",
       "      <td>NaN</td>\n",
       "      <td>NaN</td>\n",
       "      <td>0.0</td>\n",
       "      <td>0.0</td>\n",
       "    </tr>\n",
       "    <tr>\n",
       "      <th>2</th>\n",
       "      <td>neg</td>\n",
       "      <td>121322</td>\n",
       "      <td>4.770000e+03</td>\n",
       "      <td>4496.0</td>\n",
       "      <td>0.0</td>\n",
       "      <td>0.0</td>\n",
       "      <td>0.0</td>\n",
       "      <td>0.0</td>\n",
       "      <td>0.0</td>\n",
       "      <td>0.0</td>\n",
       "      <td>...</td>\n",
       "      <td>909456.0</td>\n",
       "      <td>442822.0</td>\n",
       "      <td>875222.0</td>\n",
       "      <td>810230.0</td>\n",
       "      <td>902122.0</td>\n",
       "      <td>480408.0</td>\n",
       "      <td>735778.0</td>\n",
       "      <td>99772.0</td>\n",
       "      <td>0.0</td>\n",
       "      <td>0.0</td>\n",
       "    </tr>\n",
       "    <tr>\n",
       "      <th>3</th>\n",
       "      <td>neg</td>\n",
       "      <td>40952</td>\n",
       "      <td>2.130706e+09</td>\n",
       "      <td>732.0</td>\n",
       "      <td>0.0</td>\n",
       "      <td>0.0</td>\n",
       "      <td>0.0</td>\n",
       "      <td>0.0</td>\n",
       "      <td>0.0</td>\n",
       "      <td>0.0</td>\n",
       "      <td>...</td>\n",
       "      <td>292184.0</td>\n",
       "      <td>156782.0</td>\n",
       "      <td>314436.0</td>\n",
       "      <td>336502.0</td>\n",
       "      <td>263772.0</td>\n",
       "      <td>164920.0</td>\n",
       "      <td>271678.0</td>\n",
       "      <td>11076.0</td>\n",
       "      <td>0.0</td>\n",
       "      <td>0.0</td>\n",
       "    </tr>\n",
       "    <tr>\n",
       "      <th>4</th>\n",
       "      <td>neg</td>\n",
       "      <td>1542</td>\n",
       "      <td>2.380000e+02</td>\n",
       "      <td>218.0</td>\n",
       "      <td>0.0</td>\n",
       "      <td>0.0</td>\n",
       "      <td>0.0</td>\n",
       "      <td>0.0</td>\n",
       "      <td>0.0</td>\n",
       "      <td>0.0</td>\n",
       "      <td>...</td>\n",
       "      <td>5252.0</td>\n",
       "      <td>1936.0</td>\n",
       "      <td>3474.0</td>\n",
       "      <td>56424.0</td>\n",
       "      <td>326.0</td>\n",
       "      <td>106.0</td>\n",
       "      <td>42.0</td>\n",
       "      <td>0.0</td>\n",
       "      <td>0.0</td>\n",
       "      <td>0.0</td>\n",
       "    </tr>\n",
       "  </tbody>\n",
       "</table>\n",
       "<p>5 rows × 164 columns</p>\n",
       "</div>"
      ],
      "text/plain": [
       "  class  aa_000        ac_000  ad_000  ae_000  af_000  ag_000  ag_001  ag_002  \\\n",
       "0   neg  144982           NaN     NaN     NaN     NaN     0.0     0.0     0.0   \n",
       "1   neg    3876  2.000000e+01     NaN     0.0     0.0     NaN     NaN     NaN   \n",
       "2   neg  121322  4.770000e+03  4496.0     0.0     0.0     0.0     0.0     0.0   \n",
       "3   neg   40952  2.130706e+09   732.0     0.0     0.0     0.0     0.0     0.0   \n",
       "4   neg    1542  2.380000e+02   218.0     0.0     0.0     0.0     0.0     0.0   \n",
       "\n",
       "   ag_003  ...    ee_002    ee_003    ee_004    ee_005    ee_006     ee_007  \\\n",
       "0    22.0  ...  417600.0  194106.0  390902.0  558246.0  682826.0  3779984.0   \n",
       "1     NaN  ...       NaN       NaN       NaN       NaN       NaN        NaN   \n",
       "2     0.0  ...  909456.0  442822.0  875222.0  810230.0  902122.0   480408.0   \n",
       "3     0.0  ...  292184.0  156782.0  314436.0  336502.0  263772.0   164920.0   \n",
       "4     0.0  ...    5252.0    1936.0    3474.0   56424.0     326.0      106.0   \n",
       "\n",
       "     ee_008   ee_009  ef_000  eg_000  \n",
       "0   50966.0      0.0     NaN     NaN  \n",
       "1       NaN      NaN     0.0     0.0  \n",
       "2  735778.0  99772.0     0.0     0.0  \n",
       "3  271678.0  11076.0     0.0     0.0  \n",
       "4      42.0      0.0     0.0     0.0  \n",
       "\n",
       "[5 rows x 164 columns]"
      ]
     },
     "execution_count": 30,
     "metadata": {},
     "output_type": "execute_result"
    }
   ],
   "source": [
    "train_df.head()"
   ]
  },
  {
   "cell_type": "code",
   "execution_count": 31,
   "metadata": {},
   "outputs": [
    {
     "data": {
      "text/html": [
       "<div>\n",
       "<style scoped>\n",
       "    .dataframe tbody tr th:only-of-type {\n",
       "        vertical-align: middle;\n",
       "    }\n",
       "\n",
       "    .dataframe tbody tr th {\n",
       "        vertical-align: top;\n",
       "    }\n",
       "\n",
       "    .dataframe thead th {\n",
       "        text-align: right;\n",
       "    }\n",
       "</style>\n",
       "<table border=\"1\" class=\"dataframe\">\n",
       "  <thead>\n",
       "    <tr style=\"text-align: right;\">\n",
       "      <th></th>\n",
       "      <th>class</th>\n",
       "      <th>aa_000</th>\n",
       "      <th>ac_000</th>\n",
       "      <th>ad_000</th>\n",
       "      <th>ae_000</th>\n",
       "      <th>af_000</th>\n",
       "      <th>ag_000</th>\n",
       "      <th>ag_001</th>\n",
       "      <th>ag_002</th>\n",
       "      <th>ag_003</th>\n",
       "      <th>...</th>\n",
       "      <th>ee_002</th>\n",
       "      <th>ee_003</th>\n",
       "      <th>ee_004</th>\n",
       "      <th>ee_005</th>\n",
       "      <th>ee_006</th>\n",
       "      <th>ee_007</th>\n",
       "      <th>ee_008</th>\n",
       "      <th>ee_009</th>\n",
       "      <th>ef_000</th>\n",
       "      <th>eg_000</th>\n",
       "    </tr>\n",
       "  </thead>\n",
       "  <tbody>\n",
       "    <tr>\n",
       "      <th>0</th>\n",
       "      <td>neg</td>\n",
       "      <td>676</td>\n",
       "      <td>0.000000e+00</td>\n",
       "      <td>64.0</td>\n",
       "      <td>0.0</td>\n",
       "      <td>0.0</td>\n",
       "      <td>0.0</td>\n",
       "      <td>0.0</td>\n",
       "      <td>0.0</td>\n",
       "      <td>0.0</td>\n",
       "      <td>...</td>\n",
       "      <td>3088.0</td>\n",
       "      <td>1394.0</td>\n",
       "      <td>1972.0</td>\n",
       "      <td>5480.0</td>\n",
       "      <td>4982.0</td>\n",
       "      <td>11292.0</td>\n",
       "      <td>0.0</td>\n",
       "      <td>0.0</td>\n",
       "      <td>0.0</td>\n",
       "      <td>0.0</td>\n",
       "    </tr>\n",
       "    <tr>\n",
       "      <th>1</th>\n",
       "      <td>neg</td>\n",
       "      <td>28</td>\n",
       "      <td>1.000000e+01</td>\n",
       "      <td>8.0</td>\n",
       "      <td>0.0</td>\n",
       "      <td>0.0</td>\n",
       "      <td>0.0</td>\n",
       "      <td>0.0</td>\n",
       "      <td>0.0</td>\n",
       "      <td>0.0</td>\n",
       "      <td>...</td>\n",
       "      <td>540.0</td>\n",
       "      <td>70.0</td>\n",
       "      <td>58.0</td>\n",
       "      <td>6.0</td>\n",
       "      <td>0.0</td>\n",
       "      <td>0.0</td>\n",
       "      <td>0.0</td>\n",
       "      <td>0.0</td>\n",
       "      <td>0.0</td>\n",
       "      <td>0.0</td>\n",
       "    </tr>\n",
       "    <tr>\n",
       "      <th>2</th>\n",
       "      <td>neg</td>\n",
       "      <td>1854</td>\n",
       "      <td>2.130706e+09</td>\n",
       "      <td>80.0</td>\n",
       "      <td>0.0</td>\n",
       "      <td>0.0</td>\n",
       "      <td>0.0</td>\n",
       "      <td>0.0</td>\n",
       "      <td>0.0</td>\n",
       "      <td>26904.0</td>\n",
       "      <td>...</td>\n",
       "      <td>6942.0</td>\n",
       "      <td>2972.0</td>\n",
       "      <td>5936.0</td>\n",
       "      <td>6772.0</td>\n",
       "      <td>7928.0</td>\n",
       "      <td>46810.0</td>\n",
       "      <td>564.0</td>\n",
       "      <td>0.0</td>\n",
       "      <td>0.0</td>\n",
       "      <td>0.0</td>\n",
       "    </tr>\n",
       "    <tr>\n",
       "      <th>3</th>\n",
       "      <td>neg</td>\n",
       "      <td>39980</td>\n",
       "      <td>9.620000e+02</td>\n",
       "      <td>898.0</td>\n",
       "      <td>0.0</td>\n",
       "      <td>0.0</td>\n",
       "      <td>0.0</td>\n",
       "      <td>0.0</td>\n",
       "      <td>0.0</td>\n",
       "      <td>0.0</td>\n",
       "      <td>...</td>\n",
       "      <td>304472.0</td>\n",
       "      <td>141736.0</td>\n",
       "      <td>289984.0</td>\n",
       "      <td>277082.0</td>\n",
       "      <td>229586.0</td>\n",
       "      <td>163222.0</td>\n",
       "      <td>295762.0</td>\n",
       "      <td>24808.0</td>\n",
       "      <td>0.0</td>\n",
       "      <td>0.0</td>\n",
       "    </tr>\n",
       "    <tr>\n",
       "      <th>4</th>\n",
       "      <td>neg</td>\n",
       "      <td>39180</td>\n",
       "      <td>0.000000e+00</td>\n",
       "      <td>NaN</td>\n",
       "      <td>0.0</td>\n",
       "      <td>0.0</td>\n",
       "      <td>0.0</td>\n",
       "      <td>0.0</td>\n",
       "      <td>0.0</td>\n",
       "      <td>0.0</td>\n",
       "      <td>...</td>\n",
       "      <td>431956.0</td>\n",
       "      <td>186138.0</td>\n",
       "      <td>328250.0</td>\n",
       "      <td>262620.0</td>\n",
       "      <td>199958.0</td>\n",
       "      <td>139392.0</td>\n",
       "      <td>192080.0</td>\n",
       "      <td>2988.0</td>\n",
       "      <td>0.0</td>\n",
       "      <td>0.0</td>\n",
       "    </tr>\n",
       "  </tbody>\n",
       "</table>\n",
       "<p>5 rows × 164 columns</p>\n",
       "</div>"
      ],
      "text/plain": [
       "  class  aa_000        ac_000  ad_000  ae_000  af_000  ag_000  ag_001  ag_002  \\\n",
       "0   neg     676  0.000000e+00    64.0     0.0     0.0     0.0     0.0     0.0   \n",
       "1   neg      28  1.000000e+01     8.0     0.0     0.0     0.0     0.0     0.0   \n",
       "2   neg    1854  2.130706e+09    80.0     0.0     0.0     0.0     0.0     0.0   \n",
       "3   neg   39980  9.620000e+02   898.0     0.0     0.0     0.0     0.0     0.0   \n",
       "4   neg   39180  0.000000e+00     NaN     0.0     0.0     0.0     0.0     0.0   \n",
       "\n",
       "    ag_003  ...    ee_002    ee_003    ee_004    ee_005    ee_006    ee_007  \\\n",
       "0      0.0  ...    3088.0    1394.0    1972.0    5480.0    4982.0   11292.0   \n",
       "1      0.0  ...     540.0      70.0      58.0       6.0       0.0       0.0   \n",
       "2  26904.0  ...    6942.0    2972.0    5936.0    6772.0    7928.0   46810.0   \n",
       "3      0.0  ...  304472.0  141736.0  289984.0  277082.0  229586.0  163222.0   \n",
       "4      0.0  ...  431956.0  186138.0  328250.0  262620.0  199958.0  139392.0   \n",
       "\n",
       "     ee_008   ee_009  ef_000  eg_000  \n",
       "0       0.0      0.0     0.0     0.0  \n",
       "1       0.0      0.0     0.0     0.0  \n",
       "2     564.0      0.0     0.0     0.0  \n",
       "3  295762.0  24808.0     0.0     0.0  \n",
       "4  192080.0   2988.0     0.0     0.0  \n",
       "\n",
       "[5 rows x 164 columns]"
      ]
     },
     "execution_count": 31,
     "metadata": {},
     "output_type": "execute_result"
    }
   ],
   "source": [
    "test_df.head()"
   ]
  },
  {
   "cell_type": "code",
   "execution_count": 32,
   "metadata": {},
   "outputs": [
    {
     "data": {
      "text/plain": [
       "Index(['class', 'aa_000', 'ac_000', 'ad_000', 'ae_000', 'af_000', 'ag_000',\n",
       "       'ag_001', 'ag_002', 'ag_003',\n",
       "       ...\n",
       "       'ee_002', 'ee_003', 'ee_004', 'ee_005', 'ee_006', 'ee_007', 'ee_008',\n",
       "       'ee_009', 'ef_000', 'eg_000'],\n",
       "      dtype='object', length=164)"
      ]
     },
     "execution_count": 32,
     "metadata": {},
     "output_type": "execute_result"
    }
   ],
   "source": [
    "train_df.columns"
   ]
  },
  {
   "cell_type": "code",
   "execution_count": 33,
   "metadata": {},
   "outputs": [
    {
     "data": {
      "text/plain": [
       "Index(['class', 'aa_000', 'ac_000', 'ad_000', 'ae_000', 'af_000', 'ag_000',\n",
       "       'ag_001', 'ag_002', 'ag_003',\n",
       "       ...\n",
       "       'ee_002', 'ee_003', 'ee_004', 'ee_005', 'ee_006', 'ee_007', 'ee_008',\n",
       "       'ee_009', 'ef_000', 'eg_000'],\n",
       "      dtype='object', length=164)"
      ]
     },
     "execution_count": 33,
     "metadata": {},
     "output_type": "execute_result"
    }
   ],
   "source": [
    "test_df.columns"
   ]
  },
  {
   "cell_type": "code",
   "execution_count": 34,
   "metadata": {},
   "outputs": [],
   "source": [
    "t1 = train_df['aa_000']\n",
    "t2 = test_df['aa_000']"
   ]
  },
  {
   "cell_type": "code",
   "execution_count": 35,
   "metadata": {},
   "outputs": [
    {
     "data": {
      "text/plain": [
       "KstestResult(statistic=0.015479370294039646, pvalue=0.1351136605293679)"
      ]
     },
     "execution_count": 35,
     "metadata": {},
     "output_type": "execute_result"
    }
   ],
   "source": [
    "ks_2samp(t1, t2)"
   ]
  },
  {
   "cell_type": "code",
   "execution_count": 48,
   "metadata": {},
   "outputs": [],
   "source": [
    "def get_drift_repot(base_df, current_df, threshold = 0.5):\n",
    "    report = {}\n",
    "    for col in base_df.columns:\n",
    "        z1 = base_df[col]\n",
    "        z2 = current_df[col]\n",
    "        is_same_dist = ks_2samp(z1, z2)\n",
    "        if threshold <= is_same_dist.pvalue:\n",
    "            is_found = False\n",
    "        else:\n",
    "            is_found = True\n",
    "        report.update({col: {\n",
    "            \"p_value\": float(is_same_dist.pvalue),\n",
    "            \"drift_status\": is_found\n",
    "        }})\n",
    "    return report"
   ]
  },
  {
   "cell_type": "code",
   "execution_count": 49,
   "metadata": {},
   "outputs": [
    {
     "data": {
      "text/plain": [
       "{'class': {'p_value': 1.0, 'drift_status': False},\n",
       " 'aa_000': {'p_value': 0.1351136605293679, 'drift_status': True},\n",
       " 'ac_000': {'p_value': 0.046202560213298494, 'drift_status': True},\n",
       " 'ad_000': {'p_value': 0.07853711079038472, 'drift_status': True},\n",
       " 'ae_000': {'p_value': 0.9809283979076554, 'drift_status': False},\n",
       " 'af_000': {'p_value': 0.9760687787549422, 'drift_status': False},\n",
       " 'ag_000': {'p_value': 0.9999999999999981, 'drift_status': False},\n",
       " 'ag_001': {'p_value': 0.9999999999999998, 'drift_status': False},\n",
       " 'ag_002': {'p_value': 0.9999999999999948, 'drift_status': False},\n",
       " 'ag_003': {'p_value': 0.9999228697451806, 'drift_status': False},\n",
       " 'ag_004': {'p_value': 0.4324916712515867, 'drift_status': True},\n",
       " 'ag_005': {'p_value': 0.2515346868430759, 'drift_status': True},\n",
       " 'ag_006': {'p_value': 0.21594484256391644, 'drift_status': True},\n",
       " 'ag_007': {'p_value': 0.2494065120279626, 'drift_status': True},\n",
       " 'ag_008': {'p_value': 0.4380118664304392, 'drift_status': True},\n",
       " 'ag_009': {'p_value': 0.4569810206629873, 'drift_status': True},\n",
       " 'ah_000': {'p_value': 0.18926604272952818, 'drift_status': True},\n",
       " 'ai_000': {'p_value': 0.9758710708408725, 'drift_status': False},\n",
       " 'aj_000': {'p_value': 0.9827840463926668, 'drift_status': False},\n",
       " 'ak_000': {'p_value': 0.8510850443503477, 'drift_status': False},\n",
       " 'al_000': {'p_value': 0.6568789319998041, 'drift_status': False},\n",
       " 'am_0': {'p_value': 0.4773304752636066, 'drift_status': True},\n",
       " 'an_000': {'p_value': 0.20366371417348483, 'drift_status': True},\n",
       " 'ao_000': {'p_value': 0.09169419835698922, 'drift_status': True},\n",
       " 'ap_000': {'p_value': 0.15256510226025122, 'drift_status': True},\n",
       " 'aq_000': {'p_value': 0.08768366982576115, 'drift_status': True},\n",
       " 'ar_000': {'p_value': 0.8360198701106953, 'drift_status': False},\n",
       " 'as_000': {'p_value': 1.0, 'drift_status': False},\n",
       " 'at_000': {'p_value': 0.5446708511512477, 'drift_status': False},\n",
       " 'au_000': {'p_value': 1.0, 'drift_status': False},\n",
       " 'av_000': {'p_value': 0.012209085249167384, 'drift_status': True},\n",
       " 'ax_000': {'p_value': 0.33230754554253583, 'drift_status': True},\n",
       " 'ay_000': {'p_value': 0.999999999995348, 'drift_status': False},\n",
       " 'ay_001': {'p_value': 0.9999999999999645, 'drift_status': False},\n",
       " 'ay_002': {'p_value': 0.9999999999999993, 'drift_status': False},\n",
       " 'ay_003': {'p_value': 0.9999999999999948, 'drift_status': False},\n",
       " 'ay_004': {'p_value': 0.9999999860325294, 'drift_status': False},\n",
       " 'ay_005': {'p_value': 0.10525956645447487, 'drift_status': True},\n",
       " 'ay_006': {'p_value': 0.1562472617778733, 'drift_status': True},\n",
       " 'ay_007': {'p_value': 0.5888333839841049, 'drift_status': False},\n",
       " 'ay_008': {'p_value': 0.12467038000337483, 'drift_status': True},\n",
       " 'ay_009': {'p_value': 0.99999999999953, 'drift_status': False},\n",
       " 'az_000': {'p_value': 0.15905542804456052, 'drift_status': True},\n",
       " 'az_001': {'p_value': 0.04895975002193165, 'drift_status': True},\n",
       " 'az_002': {'p_value': 0.14360384614896715, 'drift_status': True},\n",
       " 'az_003': {'p_value': 0.20119041626842493, 'drift_status': True},\n",
       " 'az_004': {'p_value': 0.028175725252003514, 'drift_status': True},\n",
       " 'az_005': {'p_value': 0.11220047058935823, 'drift_status': True},\n",
       " 'az_006': {'p_value': 0.014747267127459997, 'drift_status': True},\n",
       " 'az_007': {'p_value': 0.935543110837906, 'drift_status': False},\n",
       " 'az_008': {'p_value': 0.9959431632203164, 'drift_status': False},\n",
       " 'az_009': {'p_value': 0.9999999999999861, 'drift_status': False},\n",
       " 'ba_000': {'p_value': 0.23218934412300107, 'drift_status': True},\n",
       " 'ba_001': {'p_value': 0.08568893124126353, 'drift_status': True},\n",
       " 'ba_002': {'p_value': 0.0950307542818768, 'drift_status': True},\n",
       " 'ba_003': {'p_value': 0.13258750618173298, 'drift_status': True},\n",
       " 'ba_004': {'p_value': 0.1480865145703466, 'drift_status': True},\n",
       " 'ba_005': {'p_value': 0.5024926612015009, 'drift_status': False},\n",
       " 'ba_006': {'p_value': 0.09240349968011297, 'drift_status': True},\n",
       " 'ba_007': {'p_value': 0.3487988105047469, 'drift_status': True},\n",
       " 'ba_008': {'p_value': 0.797153582604254, 'drift_status': False},\n",
       " 'ba_009': {'p_value': 0.25402795526344835, 'drift_status': True},\n",
       " 'bb_000': {'p_value': 0.21300736260241937, 'drift_status': True},\n",
       " 'bc_000': {'p_value': 0.4605815960689117, 'drift_status': True},\n",
       " 'bd_000': {'p_value': 0.0027999707483013165, 'drift_status': True},\n",
       " 'be_000': {'p_value': 0.07241519748477776, 'drift_status': True},\n",
       " 'bf_000': {'p_value': 0.05425793577575455, 'drift_status': True},\n",
       " 'bg_000': {'p_value': 0.1870847389207947, 'drift_status': True},\n",
       " 'bh_000': {'p_value': 0.15106696244929219, 'drift_status': True},\n",
       " 'bi_000': {'p_value': 0.23300566218232688, 'drift_status': True},\n",
       " 'bj_000': {'p_value': 0.2851169618305275, 'drift_status': True},\n",
       " 'bk_000': {'p_value': 0.549634380897783, 'drift_status': False},\n",
       " 'bl_000': {'p_value': 0.24091157323331702, 'drift_status': True},\n",
       " 'bm_000': {'p_value': 0.4466163579450173, 'drift_status': True},\n",
       " 'bs_000': {'p_value': 0.4579486734393061, 'drift_status': True},\n",
       " 'bt_000': {'p_value': 0.1700548441552291, 'drift_status': True},\n",
       " 'bu_000': {'p_value': 0.20589833249065226, 'drift_status': True},\n",
       " 'bv_000': {'p_value': 0.20589833249065226, 'drift_status': True},\n",
       " 'bx_000': {'p_value': 0.17308226315982822, 'drift_status': True},\n",
       " 'by_000': {'p_value': 0.06942344078411222, 'drift_status': True},\n",
       " 'bz_000': {'p_value': 0.08311887027670606, 'drift_status': True},\n",
       " 'ca_000': {'p_value': 0.4571344629355216, 'drift_status': True},\n",
       " 'cb_000': {'p_value': 0.31892912187462796, 'drift_status': True},\n",
       " 'cc_000': {'p_value': 0.10101790118936393, 'drift_status': True},\n",
       " 'cd_000': {'p_value': 1.0, 'drift_status': False},\n",
       " 'ce_000': {'p_value': 0.012637457247009253, 'drift_status': True},\n",
       " 'cf_000': {'p_value': 0.34822220139410087, 'drift_status': True},\n",
       " 'cg_000': {'p_value': 0.5997131089934205, 'drift_status': False},\n",
       " 'ch_000': {'p_value': 0.9999999999994983, 'drift_status': False},\n",
       " 'ci_000': {'p_value': 0.12803654176519508, 'drift_status': True},\n",
       " 'cj_000': {'p_value': 0.7930536204854418, 'drift_status': False},\n",
       " 'ck_000': {'p_value': 0.23748130922309307, 'drift_status': True},\n",
       " 'cl_000': {'p_value': 0.8140607273335339, 'drift_status': False},\n",
       " 'cm_000': {'p_value': 0.3865552677761619, 'drift_status': True},\n",
       " 'cn_000': {'p_value': 1.0, 'drift_status': False},\n",
       " 'cn_001': {'p_value': 0.9998925300015641, 'drift_status': False},\n",
       " 'cn_002': {'p_value': 0.6514660434013113, 'drift_status': False},\n",
       " 'cn_003': {'p_value': 0.4761733011521968, 'drift_status': True},\n",
       " 'cn_004': {'p_value': 0.36662346568349924, 'drift_status': True},\n",
       " 'cn_005': {'p_value': 0.2627032989336354, 'drift_status': True},\n",
       " 'cn_006': {'p_value': 0.24702358626801457, 'drift_status': True},\n",
       " 'cn_007': {'p_value': 0.36695583678884847, 'drift_status': True},\n",
       " 'cn_008': {'p_value': 0.27144647343215456, 'drift_status': True},\n",
       " 'cn_009': {'p_value': 0.7388853365172254, 'drift_status': False},\n",
       " 'co_000': {'p_value': 0.9836977006247866, 'drift_status': False},\n",
       " 'cp_000': {'p_value': 0.34128876378206496, 'drift_status': True},\n",
       " 'cq_000': {'p_value': 0.20589833249065226, 'drift_status': True},\n",
       " 'cs_000': {'p_value': 0.2454778343141638, 'drift_status': True},\n",
       " 'cs_001': {'p_value': 0.3570239703361945, 'drift_status': True},\n",
       " 'cs_002': {'p_value': 0.14995665195106056, 'drift_status': True},\n",
       " 'cs_003': {'p_value': 0.2540858902358487, 'drift_status': True},\n",
       " 'cs_004': {'p_value': 0.2695608837391774, 'drift_status': True},\n",
       " 'cs_005': {'p_value': 0.08885888483306714, 'drift_status': True},\n",
       " 'cs_006': {'p_value': 0.5692021909631316, 'drift_status': False},\n",
       " 'cs_007': {'p_value': 0.2528533555693613, 'drift_status': True},\n",
       " 'cs_008': {'p_value': 0.3700426848952335, 'drift_status': True},\n",
       " 'cs_009': {'p_value': 0.9999999997951471, 'drift_status': False},\n",
       " 'ct_000': {'p_value': 0.021285883512900772, 'drift_status': True},\n",
       " 'cu_000': {'p_value': 0.23619682699913835, 'drift_status': True},\n",
       " 'cv_000': {'p_value': 0.1785697349105051, 'drift_status': True},\n",
       " 'cx_000': {'p_value': 0.020979140727457907, 'drift_status': True},\n",
       " 'cy_000': {'p_value': 0.9999999952219778, 'drift_status': False},\n",
       " 'cz_000': {'p_value': 0.8281677984830289, 'drift_status': False},\n",
       " 'da_000': {'p_value': 0.9999999999609107, 'drift_status': False},\n",
       " 'db_000': {'p_value': 0.8590133764339914, 'drift_status': False},\n",
       " 'dc_000': {'p_value': 0.18497844779262662, 'drift_status': True},\n",
       " 'dd_000': {'p_value': 0.31585712391271525, 'drift_status': True},\n",
       " 'de_000': {'p_value': 0.020702088574375024, 'drift_status': True},\n",
       " 'df_000': {'p_value': 0.7838574538094205, 'drift_status': False},\n",
       " 'dg_000': {'p_value': 0.7364660443963091, 'drift_status': False},\n",
       " 'dh_000': {'p_value': 0.9759295983138692, 'drift_status': False},\n",
       " 'di_000': {'p_value': 0.9639063533608976, 'drift_status': False},\n",
       " 'dj_000': {'p_value': 0.981941539686077, 'drift_status': False},\n",
       " 'dk_000': {'p_value': 0.9688079607583036, 'drift_status': False},\n",
       " 'dl_000': {'p_value': 0.9603698562345528, 'drift_status': False},\n",
       " 'dm_000': {'p_value': 0.9566445524176688, 'drift_status': False},\n",
       " 'dn_000': {'p_value': 0.1744526543508842, 'drift_status': True},\n",
       " 'do_000': {'p_value': 0.06368755120367575, 'drift_status': True},\n",
       " 'dp_000': {'p_value': 0.025928316221319636, 'drift_status': True},\n",
       " 'dq_000': {'p_value': 0.9840883095217999, 'drift_status': False},\n",
       " 'dr_000': {'p_value': 0.9630426507506413, 'drift_status': False},\n",
       " 'ds_000': {'p_value': 0.1391886116544584, 'drift_status': True},\n",
       " 'dt_000': {'p_value': 0.15166174921523623, 'drift_status': True},\n",
       " 'du_000': {'p_value': 0.3207770373289197, 'drift_status': True},\n",
       " 'dv_000': {'p_value': 0.3078756531189223, 'drift_status': True},\n",
       " 'dx_000': {'p_value': 0.18081733136130673, 'drift_status': True},\n",
       " 'dy_000': {'p_value': 0.4292339376865125, 'drift_status': True},\n",
       " 'dz_000': {'p_value': 0.998053495922026, 'drift_status': False},\n",
       " 'ea_000': {'p_value': 0.9984266684706973, 'drift_status': False},\n",
       " 'eb_000': {'p_value': 0.0191783105457459, 'drift_status': True},\n",
       " 'ec_00': {'p_value': 0.0850603445824829, 'drift_status': True},\n",
       " 'ed_000': {'p_value': 0.08868280435914333, 'drift_status': True},\n",
       " 'ee_000': {'p_value': 0.2591754791937174, 'drift_status': True},\n",
       " 'ee_001': {'p_value': 0.17317477805611237, 'drift_status': True},\n",
       " 'ee_002': {'p_value': 0.13459044345888704, 'drift_status': True},\n",
       " 'ee_003': {'p_value': 0.15739225197936246, 'drift_status': True},\n",
       " 'ee_004': {'p_value': 0.15527562258615168, 'drift_status': True},\n",
       " 'ee_005': {'p_value': 0.1381414776761407, 'drift_status': True},\n",
       " 'ee_006': {'p_value': 0.23265827130894967, 'drift_status': True},\n",
       " 'ee_007': {'p_value': 0.5338256411640361, 'drift_status': False},\n",
       " 'ee_008': {'p_value': 0.8884938851710297, 'drift_status': False},\n",
       " 'ee_009': {'p_value': 0.9988228948633043, 'drift_status': False},\n",
       " 'ef_000': {'p_value': 0.9982476702593389, 'drift_status': False},\n",
       " 'eg_000': {'p_value': 0.9985902794295317, 'drift_status': False}}"
      ]
     },
     "execution_count": 49,
     "metadata": {},
     "output_type": "execute_result"
    }
   ],
   "source": [
    "get_drift_repot(train_df, test_df)"
   ]
  },
  {
   "cell_type": "code",
   "execution_count": 50,
   "metadata": {},
   "outputs": [],
   "source": [
    "drift_report = get_drift_repot(train_df, test_df)"
   ]
  },
  {
   "cell_type": "code",
   "execution_count": 47,
   "metadata": {},
   "outputs": [],
   "source": [
    "from sensor.utils.main_utils import write_yaml_file\n",
    "write_yaml_file(file_path=os.path.join(os.getcwd(),\"report.yaml\"), content=drift_report, replace=True)"
   ]
  },
  {
   "cell_type": "code",
   "execution_count": null,
   "metadata": {},
   "outputs": [],
   "source": []
  }
 ],
 "metadata": {
  "kernelspec": {
   "display_name": "Python 3.8.15",
   "language": "python",
   "name": "python3"
  },
  "language_info": {
   "codemirror_mode": {
    "name": "ipython",
    "version": 3
   },
   "file_extension": ".py",
   "mimetype": "text/x-python",
   "name": "python",
   "nbconvert_exporter": "python",
   "pygments_lexer": "ipython3",
   "version": "3.8.15"
  },
  "orig_nbformat": 4,
  "vscode": {
   "interpreter": {
    "hash": "5540d75e2ea46effb2b59343269867caf112703dc1430d3594b5436c059ff704"
   }
  }
 },
 "nbformat": 4,
 "nbformat_minor": 2
}
